{
  "nbformat": 4,
  "nbformat_minor": 0,
  "metadata": {
    "colab": {
      "provenance": [],
      "authorship_tag": "ABX9TyPECtHtwsCmb+bpLmNKqAKq",
      "include_colab_link": true
    },
    "kernelspec": {
      "name": "python3",
      "display_name": "Python 3"
    },
    "language_info": {
      "name": "python"
    }
  },
  "cells": [
    {
      "cell_type": "markdown",
      "metadata": {
        "id": "view-in-github",
        "colab_type": "text"
      },
      "source": [
        "<a href=\"https://colab.research.google.com/github/V-01fe21bec107/Python_basic/blob/main/Game.ipynb\" target=\"_parent\"><img src=\"https://colab.research.google.com/assets/colab-badge.svg\" alt=\"Open In Colab\"/></a>"
      ]
    },
    {
      "cell_type": "code",
      "execution_count": 1,
      "metadata": {
        "colab": {
          "base_uri": "https://localhost:8080/"
        },
        "id": "TyTrrSiTtA9d",
        "outputId": "65319831-5e8e-45b9-a248-6b8dcae88455"
      },
      "outputs": [
        {
          "output_type": "stream",
          "name": "stdout",
          "text": [
            "enter the num 5\n",
            "8\n",
            "5\n",
            "computer won\n"
          ]
        }
      ],
      "source": [
        "\n",
        "#lottery_game\n",
        "\n",
        "import random\n",
        "computer=random.randint(1,9)\n",
        "userinput=int(input(\"enter the num \"))\n",
        "print(computer)\n",
        "print(userinput)\n",
        "if(computer>userinput):\n",
        "  print(\"computer won\")\n",
        "elif(computer==userinput):\n",
        "   print(\"tie\")\n",
        "else:\n",
        "  print(\"you won\")\n",
        "\n",
        "\n",
        "\n"
      ]
    },
    {
      "cell_type": "code",
      "source": [
        "#rock paper scissors\n",
        "\n",
        "import random\n",
        "gamelist=['rock','paper','scissors']\n",
        "comp=random.choice(gamelist)\n",
        "user=input(\"enter the game\")\n",
        "print(comp)\n",
        "print(user)\n",
        "if(comp=='rock' and user=='paper'):\n",
        "  print(\"comp won\")\n",
        "elif(comp=='paper' and user =='scissors'):\n",
        "  print(\"u won\")\n",
        "elif(comp=='scissors' and user=='paper'):\n",
        "  print(\"comp won\")\n",
        "else:\n",
        " print(\"tie\")"
      ],
      "metadata": {
        "colab": {
          "base_uri": "https://localhost:8080/"
        },
        "id": "ZxRHRIRDtLnv",
        "outputId": "f03c3f8b-4db5-4ea7-c410-ae3cc674067f"
      },
      "execution_count": 7,
      "outputs": [
        {
          "output_type": "stream",
          "name": "stdout",
          "text": [
            "enter the gamescissors\n",
            "paper\n",
            "scissors\n",
            "u won\n"
          ]
        }
      ]
    }
  ]
}