{
  "nbformat": 4,
  "nbformat_minor": 0,
  "metadata": {
    "colab": {
      "provenance": [],
      "authorship_tag": "ABX9TyNCJ7jV3dNBUxac52AfMb5F",
      "include_colab_link": true
    },
    "kernelspec": {
      "name": "python3",
      "display_name": "Python 3"
    },
    "language_info": {
      "name": "python"
    }
  },
  "cells": [
    {
      "cell_type": "markdown",
      "metadata": {
        "id": "view-in-github",
        "colab_type": "text"
      },
      "source": [
        "<a href=\"https://colab.research.google.com/github/V-01fe21bec107/Python_basic/blob/main/Calculator.ipynb\" target=\"_parent\"><img src=\"https://colab.research.google.com/assets/colab-badge.svg\" alt=\"Open In Colab\"/></a>"
      ]
    },
    {
      "cell_type": "code",
      "execution_count": 1,
      "metadata": {
        "colab": {
          "base_uri": "https://localhost:8080/"
        },
        "id": "WjKxn4fcxAG-",
        "outputId": "dc498b72-f37a-4cb3-abd7-31c33a148cfd"
      },
      "outputs": [
        {
          "output_type": "stream",
          "name": "stdout",
          "text": [
            "enter the number x5\n",
            "enter the number y3\n",
            "enter the operation*\n",
            "15\n",
            "enter the number x7\n",
            "enter the number y3\n",
            "enter the operation/\n",
            "2.3333333333333335\n",
            "enter the number x2\n",
            "enter the number y8\n",
            "enter the operation+\n",
            "10\n",
            "enter the number x5\n",
            "enter the number y2\n",
            "enter the operation-\n",
            "3\n",
            "enter the number x4\n",
            "enter the number y5\n",
            "enter the operation-\n",
            "-1\n",
            "enter the number x6\n",
            "enter the number y3\n",
            "enter the operation3\n",
            "invalid\n"
          ]
        }
      ],
      "source": [
        "def calculator():\n",
        " while(1):\n",
        "   x=int(input(\"enter the number x\"))\n",
        "   y=int(input(\"enter the number y\"))\n",
        "   z=input(\"enter the operation\")\n",
        "   if(z=='+'):\n",
        "     b=x+y\n",
        "     print(b)\n",
        "   elif(z=='-'):\n",
        "    b=x-y\n",
        "    print(b)\n",
        "   elif(z=='*'):\n",
        "    b=x*y\n",
        "    print(b)\n",
        "   elif(z=='/'):\n",
        "    b=x/y\n",
        "    print(b)\n",
        "   elif(z=='%'):\n",
        "    b=x%y\n",
        "    print(b)\n",
        "   else:\n",
        "    print(\"invalid\")\n",
        "    break\n",
        "\n",
        "calculator()\n",
        "\n",
        "\n",
        "\n"
      ]
    },
    {
      "cell_type": "code",
      "source": [
        "\n",
        "def name(x):\n",
        "  print(\"vanashree\",x)\n",
        "  print(\"vijeta\",x)\n",
        "  print(\"netravati\",x)\n",
        "  print(\"shraddha\",x)\n",
        "\n",
        "n=input(\"enter the surname\")\n",
        "name(n)"
      ],
      "metadata": {
        "colab": {
          "base_uri": "https://localhost:8080/"
        },
        "id": "LWKqV68dxCMF",
        "outputId": "dfe77aef-0a7b-43d9-fab3-d9040aab3d59"
      },
      "execution_count": 2,
      "outputs": [
        {
          "output_type": "stream",
          "name": "stdout",
          "text": [
            "enter the surnamerathod\n",
            "vanashree rathod\n",
            "vijeta rathod\n",
            "netravati rathod\n",
            "shraddha rathod\n"
          ]
        }
      ]
    }
  ]
}