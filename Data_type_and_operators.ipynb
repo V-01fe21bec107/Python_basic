{
  "nbformat": 4,
  "nbformat_minor": 0,
  "metadata": {
    "colab": {
      "provenance": [],
      "authorship_tag": "ABX9TyN3wRYCjpzUbHP/pK6EnlcV",
      "include_colab_link": true
    },
    "kernelspec": {
      "name": "python3",
      "display_name": "Python 3"
    },
    "language_info": {
      "name": "python"
    }
  },
  "cells": [
    {
      "cell_type": "markdown",
      "metadata": {
        "id": "view-in-github",
        "colab_type": "text"
      },
      "source": [
        "<a href=\"https://colab.research.google.com/github/V-01fe21bec107/Python_basic/blob/main/Data_type_and_operators.ipynb\" target=\"_parent\"><img src=\"https://colab.research.google.com/assets/colab-badge.svg\" alt=\"Open In Colab\"/></a>"
      ]
    },
    {
      "cell_type": "code",
      "source": [
        "a=[\"10\",\"25.3\",\"vanashree\"]\n",
        "print(a[1]);\n",
        "a[1]=\"shalu\"\n",
        "print(a);\n",
        "\n"
      ],
      "metadata": {
        "colab": {
          "base_uri": "https://localhost:8080/"
        },
        "id": "snT8xOj0sRVL",
        "outputId": "5773eac7-21c4-4b70-d8fa-8eb8ada5c752"
      },
      "execution_count": 1,
      "outputs": [
        {
          "output_type": "stream",
          "name": "stdout",
          "text": [
            "25.3\n",
            "['10', 'shalu', 'vanashree']\n"
          ]
        }
      ]
    },
    {
      "cell_type": "code",
      "source": [
        "a={10,20,30,40,50}; #set data structure cannot hold the index value and do not have the same sequence\n",
        "print(a);\n",
        "\n"
      ],
      "metadata": {
        "colab": {
          "base_uri": "https://localhost:8080/"
        },
        "id": "yqU1IuMEsTKE",
        "outputId": "2d75e325-9460-4665-ecce-cca3c2e6ced4"
      },
      "execution_count": 2,
      "outputs": [
        {
          "output_type": "stream",
          "name": "stdout",
          "text": [
            "{50, 20, 40, 10, 30}\n"
          ]
        }
      ]
    },
    {
      "cell_type": "code",
      "source": [
        "a={10,20,30,40,50,40,20,50,10,30}; #set data structure  do not have same number\n",
        "print(a);\n",
        "print(type(a));\n",
        "\n"
      ],
      "metadata": {
        "colab": {
          "base_uri": "https://localhost:8080/"
        },
        "id": "HJCw_QbpsVmT",
        "outputId": "679a45fd-62ed-4a11-db01-ac1c0a927fc2"
      },
      "execution_count": 3,
      "outputs": [
        {
          "output_type": "stream",
          "name": "stdout",
          "text": [
            "{50, 20, 40, 10, 30}\n",
            "<class 'set'>\n"
          ]
        }
      ]
    },
    {
      "cell_type": "code",
      "source": [
        "d={'a':\"apple\",'b':\"ball\"}\n",
        "print(d['a']);\n",
        "\n",
        "print(list(\"hello\"));\n",
        "\n",
        "\n"
      ],
      "metadata": {
        "colab": {
          "base_uri": "https://localhost:8080/"
        },
        "id": "JWngIZG9sXNq",
        "outputId": "ef5d6554-32f0-46a9-ba56-d67a5ae6741d"
      },
      "execution_count": 4,
      "outputs": [
        {
          "output_type": "stream",
          "name": "stdout",
          "text": [
            "apple\n",
            "['h', 'e', 'l', 'l', 'o']\n"
          ]
        }
      ]
    },
    {
      "cell_type": "code",
      "source": [
        "a=int(input(\"enter the number\"));\n",
        "if(a>18):\n",
        "    print(\"a is greater\");\n",
        "else:\n",
        "    print(\"not\");"
      ],
      "metadata": {
        "colab": {
          "base_uri": "https://localhost:8080/"
        },
        "id": "e_1Suhw5sYmC",
        "outputId": "f60bcd25-39b0-47ca-afe4-be2856ccf595"
      },
      "execution_count": 5,
      "outputs": [
        {
          "output_type": "stream",
          "name": "stdout",
          "text": [
            "enter the number4\n",
            "not\n"
          ]
        }
      ]
    },
    {
      "cell_type": "code",
      "source": [
        "s=\"vanashree\"\n",
        "print(s[0]);#print 1st index\n",
        "print(s[-1]);#print 2nd index\n",
        "print(s[:]);\n",
        "print(s[2:]);\n",
        "print(s[2:6]);#since 2 is included and 6 is excluded\n",
        "\n"
      ],
      "metadata": {
        "colab": {
          "base_uri": "https://localhost:8080/"
        },
        "id": "pmMTDj0fsMui",
        "outputId": "3d412f3d-38c1-4129-adfa-08e925490777"
      },
      "execution_count": 6,
      "outputs": [
        {
          "output_type": "stream",
          "name": "stdout",
          "text": [
            "v\n",
            "e\n",
            "vanashree\n",
            "nashree\n",
            "nash\n"
          ]
        }
      ]
    }
  ]
}