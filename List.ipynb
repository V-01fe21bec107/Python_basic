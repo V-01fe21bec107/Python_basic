{
  "nbformat": 4,
  "nbformat_minor": 0,
  "metadata": {
    "colab": {
      "provenance": [],
      "authorship_tag": "ABX9TyN+FVF7H8uuq0406/YGWpHD",
      "include_colab_link": true
    },
    "kernelspec": {
      "name": "python3",
      "display_name": "Python 3"
    },
    "language_info": {
      "name": "python"
    }
  },
  "cells": [
    {
      "cell_type": "markdown",
      "metadata": {
        "id": "view-in-github",
        "colab_type": "text"
      },
      "source": [
        "<a href=\"https://colab.research.google.com/github/V-01fe21bec107/Python_basic/blob/main/List.ipynb\" target=\"_parent\"><img src=\"https://colab.research.google.com/assets/colab-badge.svg\" alt=\"Open In Colab\"/></a>"
      ]
    },
    {
      "cell_type": "code",
      "execution_count": null,
      "metadata": {
        "colab": {
          "base_uri": "https://localhost:8080/"
        },
        "id": "_6HAAZsCSLYz",
        "outputId": "b5c090bd-f810-48b3-f9df-c3418ec8c1e0"
      },
      "outputs": [
        {
          "output_type": "stream",
          "name": "stdout",
          "text": [
            "['one', 'two', 'three'] ['1', '2', '3'] [[1, 2], [3, 4]] [1, 'chintu', 12, 67]\n"
          ]
        }
      ],
      "source": [
        "khaali_list=[]\n",
        "lst1=['one','two','three']\n",
        "lst2=['1','2','3']\n",
        "lst3=[[1,2],[3,4]]\n",
        "lst4=[1,'chintu',12,67]\n",
        "print(lst1,lst2,lst3,lst4)\n",
        "\n",
        "\n",
        "\n",
        "\n"
      ]
    },
    {
      "cell_type": "code",
      "source": [
        "lst=['one','two','three','four']\n",
        "lst.remove('three')\n",
        "print(lst)\n",
        "\n"
      ],
      "metadata": {
        "colab": {
          "base_uri": "https://localhost:8080/"
        },
        "id": "eoJXqQ6MSmfg",
        "outputId": "2c0402c7-5546-43f7-b791-e58d870616a9"
      },
      "execution_count": null,
      "outputs": [
        {
          "output_type": "stream",
          "name": "stdout",
          "text": [
            "['one', 'two', 'four']\n"
          ]
        }
      ]
    },
    {
      "cell_type": "code",
      "source": [
        "import random\n",
        "x=random.randint(1,9)\n",
        "print(x)\n",
        "a=random.random()\n",
        "print(a)"
      ],
      "metadata": {
        "colab": {
          "base_uri": "https://localhost:8080/"
        },
        "id": "iN69ITR2Sn4d",
        "outputId": "9045f05d-0a2e-4979-8243-ce8ed5b2f69d"
      },
      "execution_count": null,
      "outputs": [
        {
          "output_type": "stream",
          "name": "stdout",
          "text": [
            "9\n",
            "0.03650601990719893\n"
          ]
        }
      ]
    },
    {
      "cell_type": "code",
      "source": [
        "lst=['one','two','three']\n",
        "lst.append('five')\n",
        "print(lst)\n",
        "\n"
      ],
      "metadata": {
        "colab": {
          "base_uri": "https://localhost:8080/"
        },
        "id": "tLZd7uW7SPTk",
        "outputId": "03577dd5-2c58-4ac0-96d1-36188caa154c"
      },
      "execution_count": null,
      "outputs": [
        {
          "output_type": "stream",
          "name": "stdout",
          "text": [
            "['one', 'two', 'three', 'five']\n"
          ]
        }
      ]
    },
    {
      "cell_type": "code",
      "source": [
        "lst=['one','two','three']\n",
        "lst.insert(2,'five')#2 index pe five inserted\n",
        "print(lst)\n",
        "\n"
      ],
      "metadata": {
        "colab": {
          "base_uri": "https://localhost:8080/"
        },
        "id": "u-xVPW32STFe",
        "outputId": "f5e6c817-4c83-476e-c810-87d60f5cdf0b"
      },
      "execution_count": null,
      "outputs": [
        {
          "output_type": "stream",
          "name": "stdout",
          "text": [
            "['one', 'two', 'five', 'three']\n"
          ]
        }
      ]
    },
    {
      "cell_type": "code",
      "source": [
        "lst=['one','two','three']\n",
        "lst.remove('three')\n",
        "print(lst)\n",
        "\n"
      ],
      "metadata": {
        "colab": {
          "base_uri": "https://localhost:8080/"
        },
        "id": "FeXNIuTjSUQ6",
        "outputId": "17c13dea-ff7f-4182-81ff-a5f074961705"
      },
      "execution_count": null,
      "outputs": [
        {
          "output_type": "stream",
          "name": "stdout",
          "text": [
            "['one', 'two']\n"
          ]
        }
      ]
    },
    {
      "cell_type": "code",
      "source": [
        "lst=['one','two','three','five']\n",
        "lst1=['four','seven']\n",
        "lst.append(lst1)\n",
        "print(lst)\n",
        "\n",
        "\n"
      ],
      "metadata": {
        "colab": {
          "base_uri": "https://localhost:8080/"
        },
        "id": "FD2jGcFBSVaR",
        "outputId": "14df73e8-6ee7-4f00-bf4c-f9dbf172edda"
      },
      "execution_count": null,
      "outputs": [
        {
          "output_type": "stream",
          "name": "stdout",
          "text": [
            "['one', 'two', 'three', 'five', ['four', 'seven']]\n"
          ]
        }
      ]
    },
    {
      "cell_type": "code",
      "source": [
        "lst=['one','two','three','five']\n",
        "lst1=['four','seven']\n",
        "lst.extend(lst1)\n",
        "print(lst)\n",
        "\n"
      ],
      "metadata": {
        "colab": {
          "base_uri": "https://localhost:8080/"
        },
        "id": "BvzNO0wwSYSg",
        "outputId": "dbda7ded-e1cb-4e23-a9a4-164b6fdc8c90"
      },
      "execution_count": null,
      "outputs": [
        {
          "output_type": "stream",
          "name": "stdout",
          "text": [
            "['one', 'two', 'three', 'five', 'four', 'seven']\n"
          ]
        }
      ]
    },
    {
      "cell_type": "code",
      "source": [
        "lst=['one','two']\n",
        "del lst[1]\n",
        "print(lst)\n",
        "\n"
      ],
      "metadata": {
        "colab": {
          "base_uri": "https://localhost:8080/"
        },
        "id": "3JZePVnNShVG",
        "outputId": "12d72eb1-ad56-4e17-c7ec-d4318e938f84"
      },
      "execution_count": null,
      "outputs": [
        {
          "output_type": "stream",
          "name": "stdout",
          "text": [
            "['one']\n"
          ]
        }
      ]
    },
    {
      "cell_type": "code",
      "source": [
        "a=lst.pop()\n",
        "print(a)\n",
        "print(lst)"
      ],
      "metadata": {
        "colab": {
          "base_uri": "https://localhost:8080/"
        },
        "id": "050MlpAaSjCd",
        "outputId": "6230f999-633e-4a63-b135-cfd4578e9802"
      },
      "execution_count": null,
      "outputs": [
        {
          "output_type": "stream",
          "name": "stdout",
          "text": [
            "one\n",
            "[]\n"
          ]
        }
      ]
    },
    {
      "cell_type": "markdown",
      "source": [],
      "metadata": {
        "id": "i6V98ajNSMvf"
      }
    }
  ]
}