{
  "nbformat": 4,
  "nbformat_minor": 0,
  "metadata": {
    "colab": {
      "provenance": [],
      "authorship_tag": "ABX9TyM7OzXTpuY4pzoX76SOz0Xm",
      "include_colab_link": true
    },
    "kernelspec": {
      "name": "python3",
      "display_name": "Python 3"
    },
    "language_info": {
      "name": "python"
    }
  },
  "cells": [
    {
      "cell_type": "markdown",
      "metadata": {
        "id": "view-in-github",
        "colab_type": "text"
      },
      "source": [
        "<a href=\"https://colab.research.google.com/github/V-01fe21bec107/Python_basic/blob/main/Untitled2.ipynb\" target=\"_parent\"><img src=\"https://colab.research.google.com/assets/colab-badge.svg\" alt=\"Open In Colab\"/></a>"
      ]
    },
    {
      "cell_type": "code",
      "execution_count": null,
      "metadata": {
        "colab": {
          "base_uri": "https://localhost:8080/"
        },
        "id": "XVDqA7uOjX_X",
        "outputId": "3376c1e8-f39e-42da-b4f7-3bac4d0bfd17"
      },
      "outputs": [
        {
          "output_type": "stream",
          "name": "stdout",
          "text": [
            "0\n",
            "1\n",
            "2\n",
            "3\n",
            "4\n",
            "5\n",
            "6\n",
            "7\n",
            "8\n",
            "9\n",
            "10\n"
          ]
        }
      ],
      "source": [
        "#first 10 natural number\n",
        "for i in range(0,11):\n",
        "  print(i)\n"
      ]
    },
    {
      "cell_type": "code",
      "source": [
        "#print fibonacci series\n",
        "n=0\n",
        "n1=1\n",
        "print(n)\n",
        "print(n1)\n",
        "for i in range(0,11):\n",
        "   s=n+n1\n",
        "   n=n1\n",
        "   n1=s\n",
        "   print(s)\n",
        "\n"
      ],
      "metadata": {
        "colab": {
          "base_uri": "https://localhost:8080/"
        },
        "id": "jD17We92jkyI",
        "outputId": "493f2fbf-3296-404c-c0c6-b4e8f35b5b2e"
      },
      "execution_count": null,
      "outputs": [
        {
          "output_type": "stream",
          "name": "stdout",
          "text": [
            "0\n",
            "1\n",
            "1\n",
            "2\n",
            "3\n",
            "5\n",
            "8\n",
            "13\n",
            "21\n",
            "34\n",
            "55\n",
            "89\n",
            "144\n"
          ]
        }
      ]
    },
    {
      "cell_type": "code",
      "source": [
        "#print factorial of a first 10 odd number\n",
        "fact=1\n",
        "for i in range(1,20):\n",
        "    fact=fact*i\n",
        "    if(i%2!=0):\n",
        "       print(\"factorial of num is\",fact)\n",
        "\n"
      ],
      "metadata": {
        "colab": {
          "base_uri": "https://localhost:8080/"
        },
        "id": "02Dlhqxzj6mQ",
        "outputId": "0acf3755-d7bd-4e95-c1c0-e2156967e1b1"
      },
      "execution_count": null,
      "outputs": [
        {
          "output_type": "stream",
          "name": "stdout",
          "text": [
            "factorial of num is 1\n",
            "factorial of num is 6\n",
            "factorial of num is 120\n",
            "factorial of num is 5040\n",
            "factorial of num is 362880\n",
            "factorial of num is 39916800\n",
            "factorial of num is 6227020800\n",
            "factorial of num is 1307674368000\n",
            "factorial of num is 355687428096000\n",
            "factorial of num is 121645100408832000\n"
          ]
        }
      ]
    },
    {
      "cell_type": "code",
      "source": [
        "#print 1st 10 odd number\n",
        "for i in range(1,20):\n",
        "    if(i%2!=0):\n",
        "      print(i)\n",
        "\n"
      ],
      "metadata": {
        "colab": {
          "base_uri": "https://localhost:8080/"
        },
        "id": "w5pXqQp1ln5-",
        "outputId": "23278efb-486b-4e55-d548-8a91ed83f455"
      },
      "execution_count": null,
      "outputs": [
        {
          "output_type": "stream",
          "name": "stdout",
          "text": [
            "1\n",
            "3\n",
            "5\n",
            "7\n",
            "9\n",
            "11\n",
            "13\n",
            "15\n",
            "17\n",
            "19\n"
          ]
        }
      ]
    },
    {
      "cell_type": "code",
      "source": [
        "#print 1st 10 even numberin reverse order\n",
        "for i in range(20,0,-2):\n",
        "  print(i)\n",
        "\n"
      ],
      "metadata": {
        "id": "gEKeP_7Qlux5",
        "colab": {
          "base_uri": "https://localhost:8080/"
        },
        "outputId": "24f8b306-6049-417e-90ad-8165b54afe1b"
      },
      "execution_count": 28,
      "outputs": [
        {
          "output_type": "stream",
          "name": "stdout",
          "text": [
            "20\n",
            "18\n",
            "16\n",
            "14\n",
            "12\n",
            "10\n",
            "8\n",
            "6\n",
            "4\n",
            "2\n"
          ]
        }
      ]
    },
    {
      "cell_type": "code",
      "source": [
        "#Accept 10 numbers from user and display their averages\n",
        "lst=[]\n",
        "sum1=0\n",
        "n=int(input(\"enter the array size\"))\n",
        "m=n\n",
        "for i in range(n):\n",
        "   x=int(input(\"enter the elements\"))\n",
        "   lst.append(x)\n",
        "print(lst)\n",
        "for i in lst:\n",
        "  sum1=sum1+i\n",
        "print(sum1)\n",
        "average=sum1/m\n",
        "print(average)\n",
        "\n",
        "\n"
      ],
      "metadata": {
        "colab": {
          "base_uri": "https://localhost:8080/"
        },
        "id": "z9qzXaCCl4nC",
        "outputId": "378a1fe6-1324-4de3-b59d-bec6989f11f1"
      },
      "execution_count": null,
      "outputs": [
        {
          "output_type": "stream",
          "name": "stdout",
          "text": [
            "enter the array size4\n",
            "enter the elements3\n",
            "enter the elements4\n",
            "enter the elements5\n",
            "enter the elements6\n",
            "[3, 4, 5, 6]\n",
            "18\n",
            "4.5\n"
          ]
        }
      ]
    },
    {
      "cell_type": "code",
      "source": [
        "#half ascending and half descending order\n",
        "size=int(input(\"ENTER ARRAY SIZE \"))\n",
        "arr=[]\n",
        "print(\"Enter the array elements\")\n",
        "for i in range(size):\n",
        "    element=int(input())\n",
        "    arr.append(element)\n",
        "\n",
        "arr.sort()\n",
        "half=arr[size//2:]\n",
        "half.sort(reverse=True)\n",
        "out=arr[:size//2]+half\n",
        "print(\"Sorted first half in ascending order and second half in descending\",*out,sep=\"\\n\")\n",
        "\n"
      ],
      "metadata": {
        "colab": {
          "base_uri": "https://localhost:8080/"
        },
        "id": "pjdkCQQ1mELV",
        "outputId": "4123e1d1-7730-48e1-d1d1-10d83f634017"
      },
      "execution_count": null,
      "outputs": [
        {
          "output_type": "stream",
          "name": "stdout",
          "text": [
            "ENTER ARRAY SIZE 6\n",
            "Enter the array elements\n",
            "2\n",
            "6\n",
            "9\n",
            "1\n",
            "3\n",
            "4\n",
            "Sorted first half in ascending order and second half in descending\n",
            "1\n",
            "2\n",
            "3\n",
            "9\n",
            "6\n",
            "4\n"
          ]
        }
      ]
    },
    {
      "cell_type": "code",
      "source": [
        "\n",
        "  #write a program to display all the numbers which are divisible by 11 but not by 2 between 100 and 500\n",
        "for i in range(100,501):\n",
        "   if((i%11==0) and (i%2!=0)):\n",
        "      print(i)\n",
        "\n"
      ],
      "metadata": {
        "colab": {
          "base_uri": "https://localhost:8080/"
        },
        "id": "UM-5pYKImGqZ",
        "outputId": "003ec711-d16a-4540-94c7-508538cb6537"
      },
      "execution_count": null,
      "outputs": [
        {
          "output_type": "stream",
          "name": "stdout",
          "text": [
            "121\n",
            "143\n",
            "165\n",
            "187\n",
            "209\n",
            "231\n",
            "253\n",
            "275\n",
            "297\n",
            "319\n",
            "341\n",
            "363\n",
            "385\n",
            "407\n",
            "429\n",
            "451\n",
            "473\n",
            "495\n"
          ]
        }
      ]
    },
    {
      "cell_type": "code",
      "source": [
        "#Write a program that keep on accepting numbers from the user until user enters 00. Display factorial of entered numbers\n",
        "lst=[]\n",
        "n=int(input(\"enter the array size\"))\n",
        "for i in range(n):\n",
        "    x=int(input(\"enter the elements\"))\n",
        "    if(x==00):\n",
        "     break\n",
        "    else:\n",
        "     lst.append(x)\n",
        "print(lst)\n",
        "fact=1\n",
        "for i in lst:\n",
        "    fact=fact*i\n",
        "    print(fact)"
      ],
      "metadata": {
        "colab": {
          "base_uri": "https://localhost:8080/"
        },
        "id": "IBTXaOMLmIuS",
        "outputId": "f66de2a2-cb36-4adc-e30c-a59e6fa73962"
      },
      "execution_count": null,
      "outputs": [
        {
          "output_type": "stream",
          "name": "stdout",
          "text": [
            "enter the array size5\n",
            "enter the elements1\n",
            "enter the elements2\n",
            "enter the elements3\n",
            "enter the elements4\n",
            "enter the elements5\n",
            "[1, 2, 3, 4, 5]\n",
            "1\n",
            "2\n",
            "6\n",
            "24\n",
            "120\n"
          ]
        }
      ]
    },
    {
      "cell_type": "markdown",
      "source": [],
      "metadata": {
        "id": "sbxTz-GvjcDw"
      }
    }
  ]
}