{
  "nbformat": 4,
  "nbformat_minor": 0,
  "metadata": {
    "colab": {
      "provenance": [],
      "authorship_tag": "ABX9TyOwC2HzH0OITtksDyIFmROT",
      "include_colab_link": true
    },
    "kernelspec": {
      "name": "python3",
      "display_name": "Python 3"
    },
    "language_info": {
      "name": "python"
    }
  },
  "cells": [
    {
      "cell_type": "markdown",
      "metadata": {
        "id": "view-in-github",
        "colab_type": "text"
      },
      "source": [
        "<a href=\"https://colab.research.google.com/github/V-01fe21bec107/Python_basic/blob/main/codes.ipynb\" target=\"_parent\"><img src=\"https://colab.research.google.com/assets/colab-badge.svg\" alt=\"Open In Colab\"/></a>"
      ]
    },
    {
      "cell_type": "code",
      "execution_count": 1,
      "metadata": {
        "colab": {
          "base_uri": "https://localhost:8080/"
        },
        "id": "SLnqIn5ztxaj",
        "outputId": "43ea5a4a-9581-4d4e-e37c-887b1580934d"
      },
      "outputs": [
        {
          "output_type": "stream",
          "name": "stdout",
          "text": [
            "enter the stringgadag\n",
            "gadag\n",
            "palindrome\n"
          ]
        }
      ],
      "source": [
        "#6 palindrome or not\n",
        "n=input(\"enter the string\")\n",
        "b=n\n",
        "m=len(n)\n",
        "n=n[::-1]\n",
        "print(n)\n",
        "if(n==b):\n",
        "     print(\"palindrome\")\n",
        "else:\n",
        "     print(\"not\")\n",
        "\n"
      ]
    },
    {
      "cell_type": "code",
      "source": [
        "#7Seperate even and odd list\n",
        "lst=[]\n",
        "evenlst=[]\n",
        "oddlst=[]\n",
        "n=int(input(\"enter the array size\"))\n",
        "m=n\n",
        "for i in range(n):\n",
        "   x=int(input(\"enter the elements\"))\n",
        "   lst.append(x)\n",
        "print(lst)\n",
        "for i in lst :\n",
        "  if(i%2==0):\n",
        "    evenlst.append(i)\n",
        "  else:\n",
        "    oddlst.append(i)\n",
        "print(evenlst)\n",
        "print(oddlst)\n",
        "\n",
        "\n",
        "\n"
      ],
      "metadata": {
        "colab": {
          "base_uri": "https://localhost:8080/"
        },
        "id": "mkNJEiDHuDap",
        "outputId": "1d9d9a2b-d3e4-4df5-ede0-1513b0416c60"
      },
      "execution_count": 2,
      "outputs": [
        {
          "output_type": "stream",
          "name": "stdout",
          "text": [
            "enter the array size5\n",
            "enter the elements3\n",
            "enter the elements4\n",
            "enter the elements2\n",
            "enter the elements7\n",
            "enter the elements1\n",
            "[3, 4, 2, 7, 1]\n",
            "[4, 2]\n",
            "[3, 7, 1]\n"
          ]
        }
      ]
    },
    {
      "cell_type": "code",
      "source": [
        "#printing the star patterns\n",
        "n = int(input(\"Enter the number of rows\"))\n",
        "for i in range(0, n):\n",
        "        for j in range(0, i + 1):\n",
        "            # printing stars\n",
        "            print(\"* \", end=\"\")\n",
        "        print()"
      ],
      "metadata": {
        "colab": {
          "base_uri": "https://localhost:8080/"
        },
        "id": "XVf_H7vwuFPA",
        "outputId": "dce05d6d-0e34-45d1-e874-5d280ee3ccc5"
      },
      "execution_count": 3,
      "outputs": [
        {
          "output_type": "stream",
          "name": "stdout",
          "text": [
            "Enter the number of rows5\n",
            "* \n",
            "* * \n",
            "* * * \n",
            "* * * * \n",
            "* * * * * \n"
          ]
        }
      ]
    }
  ]
}