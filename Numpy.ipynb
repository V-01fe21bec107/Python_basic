{
  "cells": [
    {
      "cell_type": "markdown",
      "metadata": {
        "id": "view-in-github",
        "colab_type": "text"
      },
      "source": [
        "<a href=\"https://colab.research.google.com/github/V-01fe21bec107/Python_basic/blob/main/Numpy.ipynb\" target=\"_parent\"><img src=\"https://colab.research.google.com/assets/colab-badge.svg\" alt=\"Open In Colab\"/></a>"
      ]
    },
    {
      "cell_type": "code",
      "execution_count": null,
      "metadata": {
        "colab": {
          "base_uri": "https://localhost:8080/"
        },
        "id": "ksSb3g_tg2Gz",
        "outputId": "7b56f253-3e91-4a8c-ea20-c3697df39c59"
      },
      "outputs": [
        {
          "data": {
            "text/plain": [
              "array([10, 20, 30, 40, 50])"
            ]
          },
          "execution_count": 1,
          "metadata": {},
          "output_type": "execute_result"
        }
      ],
      "source": [
        "import numpy as np\n",
        "n1=np.array([10,20,30,40,50])\n",
        "n1"
      ]
    },
    {
      "cell_type": "code",
      "execution_count": null,
      "metadata": {
        "colab": {
          "base_uri": "https://localhost:8080/"
        },
        "id": "eyJSENE5hI0S",
        "outputId": "fe81e304-de6f-4d6a-90bb-cb0e3a259376"
      },
      "outputs": [
        {
          "name": "stdout",
          "output_type": "stream",
          "text": [
            "[[10 20 30 40 50]\n",
            " [20 30 40 50 60]]\n"
          ]
        },
        {
          "data": {
            "text/plain": [
              "numpy.ndarray"
            ]
          },
          "execution_count": 5,
          "metadata": {},
          "output_type": "execute_result"
        }
      ],
      "source": [
        "import numpy as np\n",
        "n1=np.array([[10,20,30,40,50],[20,30,40,50,60]])\n",
        "print(n1)\n",
        "type(n1)"
      ]
    },
    {
      "cell_type": "code",
      "execution_count": null,
      "metadata": {
        "colab": {
          "base_uri": "https://localhost:8080/"
        },
        "id": "bavHWo-Nirzp",
        "outputId": "8ef26774-db90-4ee0-af63-e919ad165b1d"
      },
      "outputs": [
        {
          "data": {
            "text/plain": [
              "array([[0., 0.]])"
            ]
          },
          "execution_count": 7,
          "metadata": {},
          "output_type": "execute_result"
        }
      ],
      "source": [
        "#To create a 2-D array\n",
        "import numpy as np\n",
        "n1=np.zeros((1,2))\n",
        "n1"
      ]
    },
    {
      "cell_type": "code",
      "execution_count": null,
      "metadata": {
        "colab": {
          "base_uri": "https://localhost:8080/"
        },
        "id": "FDwxM1pRjUfz",
        "outputId": "e29ec9d7-959a-405d-dc01-907b7ae81651"
      },
      "outputs": [
        {
          "data": {
            "text/plain": [
              "array([[0., 0., 0., 0., 0.],\n",
              "       [0., 0., 0., 0., 0.],\n",
              "       [0., 0., 0., 0., 0.],\n",
              "       [0., 0., 0., 0., 0.],\n",
              "       [0., 0., 0., 0., 0.]])"
            ]
          },
          "execution_count": 8,
          "metadata": {},
          "output_type": "execute_result"
        }
      ],
      "source": [
        "import numpy as np\n",
        "n1=np.zeros((5,5))\n",
        "n1"
      ]
    },
    {
      "cell_type": "code",
      "execution_count": null,
      "metadata": {
        "colab": {
          "base_uri": "https://localhost:8080/"
        },
        "id": "ooZ0sdP6jokw",
        "outputId": "7f5956f9-87c1-4b44-9735-4e97da167f66"
      },
      "outputs": [
        {
          "data": {
            "text/plain": [
              "array([[4, 4, 4],\n",
              "       [4, 4, 4],\n",
              "       [4, 4, 4]])"
            ]
          },
          "execution_count": 9,
          "metadata": {},
          "output_type": "execute_result"
        }
      ],
      "source": [
        "#using full we can give specific number to the 2-D array\n",
        "import numpy as np\n",
        "n1=np.full((3,3),4)\n",
        "n1"
      ]
    },
    {
      "cell_type": "code",
      "execution_count": null,
      "metadata": {
        "colab": {
          "base_uri": "https://localhost:8080/"
        },
        "id": "AtXvjFN4kX8m",
        "outputId": "491015f6-a783-459d-f9bb-75ce61ae5302"
      },
      "outputs": [
        {
          "data": {
            "text/plain": [
              "array([[4, 4],\n",
              "       [4, 4]])"
            ]
          },
          "execution_count": 11,
          "metadata": {},
          "output_type": "execute_result"
        }
      ],
      "source": [
        "import numpy as np\n",
        "n1=np.full((2,2),4)\n",
        "n1"
      ]
    },
    {
      "cell_type": "code",
      "execution_count": null,
      "metadata": {
        "colab": {
          "base_uri": "https://localhost:8080/"
        },
        "id": "rVytODWCkf_o",
        "outputId": "ff84cceb-ded4-4fa9-8cd8-a26ca825a510"
      },
      "outputs": [
        {
          "data": {
            "text/plain": [
              "array([10, 11, 12, 13, 14, 15, 16, 17, 18, 19])"
            ]
          },
          "execution_count": 12,
          "metadata": {},
          "output_type": "execute_result"
        }
      ],
      "source": [
        "#initializing the numpy within the range using arange\n",
        "import numpy as np\n",
        "n1=np.arange(10,20)\n",
        "n1"
      ]
    },
    {
      "cell_type": "code",
      "execution_count": null,
      "metadata": {
        "colab": {
          "base_uri": "https://localhost:8080/"
        },
        "id": "jvHC_p-Kk7Gb",
        "outputId": "c0609cbf-9ca5-488e-d33a-5546b9b7bf73"
      },
      "outputs": [
        {
          "data": {
            "text/plain": [
              "array([10, 12, 14, 16, 18])"
            ]
          },
          "execution_count": 13,
          "metadata": {},
          "output_type": "execute_result"
        }
      ],
      "source": [
        "#initializing the numpy within the range using arange\n",
        "import numpy as np\n",
        "n1=np.arange(10,20,2)\n",
        "n1"
      ]
    },
    {
      "cell_type": "code",
      "execution_count": null,
      "metadata": {
        "colab": {
          "base_uri": "https://localhost:8080/"
        },
        "id": "SzP3aDu-lac0",
        "outputId": "e07e26c8-dd1c-4606-f60e-c3b7ae56c1fc"
      },
      "outputs": [
        {
          "data": {
            "text/plain": [
              "array([71, 79, 68, 51, 96])"
            ]
          },
          "execution_count": 15,
          "metadata": {},
          "output_type": "execute_result"
        }
      ],
      "source": [
        "#generating the random numbers using randint\n",
        "import numpy as pd\n",
        "n1=np.random.randint(1,200,5)\n",
        "n1"
      ]
    },
    {
      "cell_type": "code",
      "execution_count": null,
      "metadata": {
        "colab": {
          "base_uri": "https://localhost:8080/"
        },
        "id": "JNbIkHq5mCpo",
        "outputId": "e30d2336-9c50-44a4-fd92-6720f237ac38"
      },
      "outputs": [
        {
          "data": {
            "text/plain": [
              "array([[10, 20],\n",
              "       [30, 40],\n",
              "       [50, 30],\n",
              "       [40, 50],\n",
              "       [60, 70]])"
            ]
          },
          "execution_count": 26,
          "metadata": {},
          "output_type": "execute_result"
        }
      ],
      "source": [
        "import numpy as np\n",
        "n1=np.array([[10,20,30,40,50],[30,40,50,60,70]])\n",
        "n1.shape=(5,2)\n",
        "n1"
      ]
    },
    {
      "cell_type": "code",
      "execution_count": null,
      "metadata": {
        "colab": {
          "base_uri": "https://localhost:8080/"
        },
        "id": "L09BEJcRwlcu",
        "outputId": "40d41e34-5223-45ad-d851-a5bd7eefc0b9"
      },
      "outputs": [
        {
          "data": {
            "text/plain": [
              "array([[10, 20, 30, 40],\n",
              "       [30, 45, 67, 45]])"
            ]
          },
          "execution_count": 30,
          "metadata": {},
          "output_type": "execute_result"
        }
      ],
      "source": [
        "#Vertical stack\n",
        "import numpy as np\n",
        "n1=np.array([10,20,30,40])\n",
        "n2=np.array([30,45,67,45])\n",
        "np.vstack((n1,n2))"
      ]
    },
    {
      "cell_type": "code",
      "execution_count": null,
      "metadata": {
        "colab": {
          "base_uri": "https://localhost:8080/"
        },
        "id": "VGKFGcMTx6kn",
        "outputId": "8d31696c-428f-4993-9fcc-33d6e5ba4444"
      },
      "outputs": [
        {
          "data": {
            "text/plain": [
              "array([10, 20, 30, 40, 34, 50, 78, 30])"
            ]
          },
          "execution_count": 31,
          "metadata": {},
          "output_type": "execute_result"
        }
      ],
      "source": [
        "#horizontal stack\n",
        "import numpy as np\n",
        "n1=np.array([10,20,30,40])\n",
        "n2=np.array([34,50,78,30])\n",
        "np.hstack((n1,n2))"
      ]
    },
    {
      "cell_type": "code",
      "execution_count": null,
      "metadata": {
        "colab": {
          "base_uri": "https://localhost:8080/"
        },
        "id": "PrF2tnVMyVOL",
        "outputId": "bb2dd76a-fbf0-4657-e01e-1920b29132c8"
      },
      "outputs": [
        {
          "data": {
            "text/plain": [
              "array([[10, 34],\n",
              "       [20, 50],\n",
              "       [30, 78],\n",
              "       [40, 30]])"
            ]
          },
          "execution_count": 32,
          "metadata": {},
          "output_type": "execute_result"
        }
      ],
      "source": [
        "#Column_stack\n",
        "import numpy as np\n",
        "n1=np.array([10,20,30,40])\n",
        "n2=np.array([34,50,78,30])\n",
        "np.column_stack((n1,n2))"
      ]
    },
    {
      "cell_type": "markdown",
      "metadata": {
        "id": "KuxzPX1JisYo"
      },
      "source": [
        "Numpy intersection and difference"
      ]
    },
    {
      "cell_type": "code",
      "execution_count": null,
      "metadata": {
        "id": "YDzdrRnh0A5V"
      },
      "outputs": [],
      "source": [
        "import numpy as np\n",
        "n1=np.array([10,20,30,40,50])\n",
        "n2=np.array([40,50,60,70,80])\n",
        "np.intersect1d(n1,n2)"
      ]
    },
    {
      "cell_type": "code",
      "execution_count": null,
      "metadata": {
        "colab": {
          "background_save": true
        },
        "id": "B5IyGuMv0gj-",
        "outputId": "a3554c70-0aee-429a-bd24-2070c3502d21"
      },
      "outputs": [
        {
          "data": {
            "text/plain": [
              "array([10, 20, 30])"
            ]
          },
          "execution_count": 34,
          "metadata": {},
          "output_type": "execute_result"
        }
      ],
      "source": [
        "import numpy as np\n",
        "n1=np.array([10,20,30,40,50])\n",
        "n2=np.array([40,50,60,70,80])\n",
        "np.setdiff1d(n1,n2)"
      ]
    },
    {
      "cell_type": "code",
      "source": [
        "import numpy as nd\n",
        "n1=nd.array([10,20,30,40])\n",
        "nd.mean(n1)\n"
      ],
      "metadata": {
        "colab": {
          "base_uri": "https://localhost:8080/"
        },
        "id": "0yB04e7eUoG6",
        "outputId": "116aea11-dff5-4319-e51c-d98225716586"
      },
      "execution_count": null,
      "outputs": [
        {
          "output_type": "execute_result",
          "data": {
            "text/plain": [
              "25.0"
            ]
          },
          "metadata": {},
          "execution_count": 1
        }
      ]
    },
    {
      "cell_type": "code",
      "source": [
        "nd.median(n1)"
      ],
      "metadata": {
        "colab": {
          "base_uri": "https://localhost:8080/"
        },
        "id": "dxM0PxQyU2xU",
        "outputId": "eb952682-0776-4c86-962d-e15c9da2ab2e"
      },
      "execution_count": null,
      "outputs": [
        {
          "output_type": "execute_result",
          "data": {
            "text/plain": [
              "25.0"
            ]
          },
          "metadata": {},
          "execution_count": 2
        }
      ]
    },
    {
      "cell_type": "code",
      "source": [
        "nd.std(n1)#for standard deviation"
      ],
      "metadata": {
        "colab": {
          "base_uri": "https://localhost:8080/"
        },
        "id": "v2sBP7XBU6X2",
        "outputId": "a837241e-a0ce-4e8d-9fd8-412f94face44"
      },
      "execution_count": null,
      "outputs": [
        {
          "output_type": "execute_result",
          "data": {
            "text/plain": [
              "11.180339887498949"
            ]
          },
          "metadata": {},
          "execution_count": 5
        }
      ]
    },
    {
      "cell_type": "code",
      "source": [],
      "metadata": {
        "id": "d7o9X4OfVOTg"
      },
      "execution_count": null,
      "outputs": []
    }
  ],
  "metadata": {
    "colab": {
      "provenance": [],
      "authorship_tag": "ABX9TyO6CKktLEscIThDonNqpL5g",
      "include_colab_link": true
    },
    "kernelspec": {
      "display_name": "Python 3",
      "name": "python3"
    },
    "language_info": {
      "name": "python"
    }
  },
  "nbformat": 4,
  "nbformat_minor": 0
}