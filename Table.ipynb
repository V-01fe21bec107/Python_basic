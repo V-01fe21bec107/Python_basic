{
  "nbformat": 4,
  "nbformat_minor": 0,
  "metadata": {
    "colab": {
      "provenance": [],
      "authorship_tag": "ABX9TyM/HVJ0UZC67EfIL0RAM8eO",
      "include_colab_link": true
    },
    "kernelspec": {
      "name": "python3",
      "display_name": "Python 3"
    },
    "language_info": {
      "name": "python"
    }
  },
  "cells": [
    {
      "cell_type": "markdown",
      "metadata": {
        "id": "view-in-github",
        "colab_type": "text"
      },
      "source": [
        "<a href=\"https://colab.research.google.com/github/V-01fe21bec107/Python_basic/blob/main/Table.ipynb\" target=\"_parent\"><img src=\"https://colab.research.google.com/assets/colab-badge.svg\" alt=\"Open In Colab\"/></a>"
      ]
    },
    {
      "cell_type": "code",
      "execution_count": 1,
      "metadata": {
        "colab": {
          "base_uri": "https://localhost:8080/"
        },
        "id": "NJ6VxpTIxuxt",
        "outputId": "ea4e36e6-827e-4270-99f5-9d2ba2df7da5"
      },
      "outputs": [
        {
          "output_type": "stream",
          "name": "stdout",
          "text": [
            "enter the number6\n",
            "6 x 1 = 6\n",
            "6 x 2 = 12\n",
            "6 x 3 = 18\n",
            "6 x 4 = 24\n",
            "6 x 5 = 30\n",
            "6 x 6 = 36\n",
            "6 x 7 = 42\n",
            "6 x 8 = 48\n",
            "6 x 9 = 54\n",
            "6 x 10 = 60\n"
          ]
        }
      ],
      "source": [
        "def table(i):\n",
        "  n=a*i\n",
        "  print(a,'x',i,'=',a*i)\n",
        "\n",
        "a=int(input(\"enter the number\"))\n",
        "for i in range (1,11):\n",
        " table(i)\n",
        "\n",
        "\n",
        "\n",
        "\n",
        "\n",
        "\n",
        "\n",
        "\n",
        "\n"
      ]
    },
    {
      "cell_type": "code",
      "source": [
        "n=int(input(\"enter the array size\"))\n",
        "lst=[]\n",
        "for i in range(n):\n",
        "    x=int(input(\"enter the elements\"))\n",
        "    if(x==6):\n",
        "     for j in range(1,6):\n",
        "       print(j)\n",
        "for k in range (1,6):\n",
        " print(k)\n",
        "for m in range(7,11):\n",
        " print(m)\n",
        ""
      ],
      "metadata": {
        "colab": {
          "base_uri": "https://localhost:8080/"
        },
        "id": "wG8ZkewYxxOT",
        "outputId": "fdf4d1bc-3bae-4669-8d3f-a60e7a1a9a56"
      },
      "execution_count": 2,
      "outputs": [
        {
          "output_type": "stream",
          "name": "stdout",
          "text": [
            "enter the array size5\n",
            "enter the elements6\n",
            "1\n",
            "2\n",
            "3\n",
            "4\n",
            "5\n",
            "enter the elements1\n",
            "enter the elements2\n",
            "enter the elements3\n",
            "enter the elements5\n",
            "1\n",
            "2\n",
            "3\n",
            "4\n",
            "5\n",
            "7\n",
            "8\n",
            "9\n",
            "10\n"
          ]
        }
      ]
    }
  ]
}