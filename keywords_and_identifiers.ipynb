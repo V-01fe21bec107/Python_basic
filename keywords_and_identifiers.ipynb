{
  "nbformat": 4,
  "nbformat_minor": 0,
  "metadata": {
    "colab": {
      "provenance": [],
      "authorship_tag": "ABX9TyOakzfyRkyPIJnWl0WSDTvw",
      "include_colab_link": true
    },
    "kernelspec": {
      "name": "python3",
      "display_name": "Python 3"
    },
    "language_info": {
      "name": "python"
    }
  },
  "cells": [
    {
      "cell_type": "markdown",
      "metadata": {
        "id": "view-in-github",
        "colab_type": "text"
      },
      "source": [
        "<a href=\"https://colab.research.google.com/github/V-01fe21bec107/Python_basic/blob/main/keywords_and_identifiers.ipynb\" target=\"_parent\"><img src=\"https://colab.research.google.com/assets/colab-badge.svg\" alt=\"Open In Colab\"/></a>"
      ]
    },
    {
      "cell_type": "code",
      "execution_count": 1,
      "metadata": {
        "colab": {
          "base_uri": "https://localhost:8080/"
        },
        "id": "LtEyMXBDqPhC",
        "outputId": "52b80411-7bb6-4be0-8c4d-341ff99d7ff0"
      },
      "outputs": [
        {
          "output_type": "stream",
          "name": "stdout",
          "text": [
            "['False', 'None', 'True', 'and', 'as', 'assert', 'async', 'await', 'break', 'class', 'continue', 'def', 'del', 'elif', 'else', 'except', 'finally', 'for', 'from', 'global', 'if', 'import', 'in', 'is', 'lambda', 'nonlocal', 'not', 'or', 'pass', 'raise', 'return', 'try', 'while', 'with', 'yield']\n",
            "No of keyword : 35\n"
          ]
        }
      ],
      "source": [
        "import keyword as kw\n",
        "print(kw.kwlist)\n",
        "print(\"No of keyword :\",len(kw.kwlist));"
      ]
    },
    {
      "cell_type": "code",
      "source": [
        "a=10;\n",
        "b=20;\n",
        "print(\"the value of a is \",\"1\"+str(a));"
      ],
      "metadata": {
        "colab": {
          "base_uri": "https://localhost:8080/"
        },
        "id": "Okk2Ln-brQEB",
        "outputId": "70adb57f-87bb-45dc-9efc-8bf5387ab5e5"
      },
      "execution_count": 2,
      "outputs": [
        {
          "output_type": "stream",
          "name": "stdout",
          "text": [
            "the value of a is  110\n"
          ]
        }
      ]
    },
    {
      "cell_type": "code",
      "source": [
        "print(\"the value of a is {} and b is {}\".format(a,b));\n",
        "print(\"the value of a is {1} and b is {0}\".format(a,b));\n",
        "print(\"hello {name}, {value}\".format(name=\"prasanna\",value=\"mad angle\"))\n",
        "print(\"fuck {name} {num}\".format(name=\"prasanna\",num=\"***\"));\n",
        "print(\"my {0} {1} {num}\".format(\"name\",\"is\",num=\"vanashree\"));"
      ],
      "metadata": {
        "colab": {
          "base_uri": "https://localhost:8080/"
        },
        "id": "y_o9hClIrQ9P",
        "outputId": "2f366bc1-4e17-4a8c-ff48-8d8cbd778690"
      },
      "execution_count": 3,
      "outputs": [
        {
          "output_type": "stream",
          "name": "stdout",
          "text": [
            "the value of a is 10 and b is 20\n",
            "the value of a is 20 and b is 10\n",
            "hello prasanna, mad angle\n",
            "fuck prasanna ***\n",
            "my name is vanashree\n"
          ]
        }
      ]
    },
    {
      "cell_type": "code",
      "source": [
        "a=float(input(\"enter a number a\"));\n",
        "b=2*a;\n",
        "print(b);\n"
      ],
      "metadata": {
        "colab": {
          "base_uri": "https://localhost:8080/"
        },
        "id": "IHCfJjf6rXvN",
        "outputId": "7167d509-888e-402c-c77c-571d3671f1b5"
      },
      "execution_count": 4,
      "outputs": [
        {
          "output_type": "stream",
          "name": "stdout",
          "text": [
            "enter a number a4\n",
            "8.0\n"
          ]
        }
      ]
    }
  ]
}